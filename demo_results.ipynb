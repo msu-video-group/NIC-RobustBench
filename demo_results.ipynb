{
 "cells": [
  {
   "cell_type": "markdown",
   "id": "ca391d00",
   "metadata": {},
   "source": [
    "## Preliminaries"
   ]
  },
  {
   "cell_type": "code",
   "execution_count": 1,
   "id": "67ac3232",
   "metadata": {},
   "outputs": [],
   "source": [
    "import pandas as pd\n",
    "import matplotlib.pyplot as plt\n",
    "import seaborn as sns\n",
    "import numpy as np\n",
    "import os, sys\n",
    "from pathlib import Path\n",
    "import warnings\n",
    "warnings.filterwarnings('ignore')"
   ]
  },
  {
   "cell_type": "code",
   "execution_count": 5,
   "id": "7846136b",
   "metadata": {},
   "outputs": [],
   "source": [
    "attacks = ['ifgsm', 'pgd-ifgsm', 'korhonen-et-al', 'madc','ssah', 'cadv', 'random-noise', 'ftda', 'ftda-randn-init', 'madc-randn-init', 'ssah-randn-init', 'madc-linf', 'madc-norm','ftda-linf','mad-mix']\n",
    "jpegai_codecs = ['jpegai-v61-hop', 'jpegai-v61-bop', 'jpegai-v51-hop', 'jpegai-v51-bop', 'jpegai-v41-hop', 'jpegai-v41-bop', 'jpegai-v71-hop', 'jpegai-v71-bop']\n",
    "base_codecs = ['bmshj2018-hyperprior-vbr',\n",
    " 'jpegai-v51-bop',\n",
    " 'jpegai-v71-hop',\n",
    " 'jpegai-v51-hop',\n",
    " 'jpegai-v41-bop',\n",
    " 'jpegai-v71-bop',\n",
    " 'jpegai-v41-hop',\n",
    " 'mbt2018',\n",
    " 'jpegai-v61-hop',\n",
    " 'bmshj2018-hyperprior',\n",
    " 'cheng2020-attn',\n",
    " 'jpegai-v61-bop',\n",
    " 'evc',\n",
    " 'cheng2020-anchor',\n",
    " 'bmshj2018-factorized',\n",
    " 'mbt2018-mean',\n",
    " 'qres-vae',\n",
    " 'cdc-xparam',\n",
    " 'elic',\n",
    " 'lic-tcm',\n",
    " 'hific']\n",
    "\n",
    "codec_variants = {'bmshj2018-hyperprior-vbr': ['1', '2', '4', '6'],\n",
    " 'jpegai-v51-bop': ['b0002', 'b0012', 'b0075', 'b05'],\n",
    " 'jpegai-v71-hop': ['b0002', 'b0012', 'b0075', 'b05'],\n",
    " 'jpegai-v51-hop': ['b0002', 'b0012', 'b0075', 'b05'],\n",
    " 'jpegai-v41-bop': ['b0002', 'b0007', 'b0015', 'b005'],\n",
    " 'jpegai-v71-bop': ['b0002', 'b0012', 'b0075', 'b05'],\n",
    " 'jpegai-v41-hop': ['b0002', 'b0007', 'b0015', 'b005'],\n",
    " 'mbt2018': ['1', '2', '4', '6'],\n",
    " 'jpegai-v61-hop': ['b0002', 'b0012', 'b0075', 'b05'],\n",
    " 'bmshj2018-hyperprior': ['1', '2', '4', '6'],\n",
    " 'cheng2020-attn': ['1', '2', '4', '6'],\n",
    " 'jpegai-v61-bop': ['b0002', 'b0012', 'b0075', 'b05'],\n",
    " 'evc': ['1', '2', '4', '6'],\n",
    " 'cheng2020-anchor': ['1', '2', '4', '6'],\n",
    " 'bmshj2018-factorized': ['1', '2', '4', '6'],\n",
    " 'mbt2018-mean': ['1', '2', '4', '6'],\n",
    " 'qres-vae': ['16', '256', '2048'],\n",
    " 'cdc-xparam': ['b00032', 'b01024', 'b02048'],\n",
    " 'elic': ['0004', '0016', '0450'],\n",
    " 'lic-tcm': ['005', '0013', '00025'],\n",
    " 'hific': ['014', '030', '045']}\n",
    "\n",
    "better_loss_names = {\n",
    "    'added_noises_loss':'Added Noises (YCbCr)',\n",
    "    'added_noises_loss_Y':'Added Noises (Y)',\n",
    "    'ftda_default_loss':'FTDA Loss (YCbCr)',\n",
    "    'ftda_default_loss_Y':'FTDA Loss (Y)',\n",
    "    'bpp_increase_loss':'Increase BPP (YCbCr)',\n",
    "    'reconstr_loss':'Reconstruction Loss (YCbCr, $L_2$)',\n",
    "    'reconstr_loss_Y':'Reconstruction Loss (Y, $L_2$)',\n",
    "    'reconstruction_msssim_loss':'Reconstruction Loss (YCbCr, MS-SSIM)',\n",
    "    'ftda_msssim_loss':'FTDA Loss (YCbCr, MS-SSIM)',\n",
    "    'src_reconstr_loss_Y':'Source Reconstruction (Y, $L_2$)'\n",
    "}\n",
    "defense_2_name = {\n",
    "    'diffpure':'DiffPure',\n",
    "    'no_defence':'W/o defense',\n",
    "    'reversible_ensemble':'Rand. Ensemble',\n",
    "    'reversible_flip':'Flip',\n",
    "    'reversible_random_color_order':'Color Reorder',\n",
    "    'reversible_random_rotate':'Rotate',\n",
    "    'reversible_random_roll':'Roll',\n",
    "    'self_ensemble':'Self-Ensemble'\n",
    "}\n",
    "\n",
    "codec_2_name = {\n",
    "    'mbt2018':'MBT-2018',\n",
    "    'bmshj2018-factorized':'Balle et al.\\n(factorized)',\n",
    "    'bmshj2018-hyperprior':'Balle et al.\\n(hyperprior)',\n",
    "    'cheng2020-attn':'Cheng et al.\\n(attn)',\n",
    "    'cheng2020-anchor':'Cheng et al.\\n(anchor)',\n",
    "    'hific':'HiFiC',\n",
    "    'lic-tcm':'LIC-TCM',\n",
    "    'qres-vae':'QRes-VAE',\n",
    "    'elic':'ELIC',\n",
    "    'evc':'EVC',\n",
    "    'cdc-xparam':'CDC',\n",
    "    'mbt2018-mean':'MBT-2018\\n(mean)',\n",
    "    'jpegai-v71-hop':'JPEG-AI v7.1, HOP',\n",
    "    'jpegai-v71-bop':'JPEG-AI v7.1, BOP',\n",
    "    'jpegai-v61-hop':'JPEG-AI v6.1, HOP',\n",
    "    'jpegai-v61-bop':'JPEG-AI v6.1, BOP',\n",
    "    'jpegai-v51-hop':'JPEG-AI v5.1, HOP',\n",
    "    'jpegai-v51-bop':'JPEG-AI v5.1, BOP',\n",
    "    'jpegai-v41-hop':'JPEG-AI v4.1, HOP',\n",
    "    'jpegai-v41-bop':'JPEG-AI v4.1, BOP',\n",
    "\n",
    "    'jpegai-v71-hop-tools-on':'JPEG-AI v7.1, HOP',\n",
    "    'jpegai-v71-bop-tools-on':'JPEG-AI v7.1, BOP',\n",
    "    'jpegai-v61-hop-tools-on':'JPEG-AI v6.1, HOP',\n",
    "    'jpegai-v61-bop-tools-on':'JPEG-AI v6.1, BOP',\n",
    "    'jpegai-v51-hop-tools-on':'JPEG-AI v5.1, HOP',\n",
    "    'jpegai-v51-bop-tools-on':'JPEG-AI v5.1, BOP',\n",
    "    'jpegai-v41-hop-tools-on':'JPEG-AI v4.1, HOP',\n",
    "    'jpegai-v41-bop-tools-on':'JPEG-AI v4.1, BOP',\n",
    "}\n",
    "\n",
    "codec_order = ['mbt2018', 'mbt2018-mean', 'bmshj2018-factorized', 'bmshj2018-hyperprior', 'cheng2020-attn', 'cheng2020-anchor', 'hific',  'qres-vae', 'lic-tcm', 'elic', 'cdc-xparam'] + \\\n",
    "    ['jpegai-v71-bop', 'jpegai-v71-hop', 'jpegai-v61-bop','jpegai-v61-hop','jpegai-v51-bop','jpegai-v51-hop','jpegai-v41-bop', 'jpegai-v41-hop']\n",
    "defense_order = ['diffpure', 'no_defence', 'reversible_ensemble', 'reversible_flip',\n",
    "       'reversible_random_color_order', 'reversible_random_roll',\n",
    "       'reversible_random_rotate', 'self_ensemble']\n",
    "\n",
    "atk_2_name = {\n",
    "    'ifgsm':'I-FGSM',\n",
    "    'ftda':'FTDA',\n",
    "    'ftda-linf':'FTDA-$L_{{\\\\infty}}$',\n",
    "    'madc':'MADC',\n",
    "    'madc-norm':'MADC-norm',\n",
    "    'madc-linf':'MADC-$L_{{\\\\infty}}$',\n",
    "    'pgd-ifgsm':'PGD',\n",
    "    'ssah':'SSAH',\n",
    "    'ssah-randn-init':'SSAH (Rand. init)',\n",
    "    'mad-mix':'MAD-MIX'\n",
    "}"
   ]
  },
  {
   "cell_type": "markdown",
   "id": "0e47518f",
   "metadata": {},
   "source": [
    "## Load results"
   ]
  },
  {
   "cell_type": "code",
   "execution_count": 3,
   "id": "ccef2f39",
   "metadata": {},
   "outputs": [],
   "source": [
    "# merge all *_test.csv files\n",
    "def merge_full_files(root_path, main_for_jpeg_ai = True):\n",
    "    res_df = pd.DataFrame()\n",
    "    for atk in Path(root_path).iterdir():\n",
    "        if '.DS_Store' in str(atk):\n",
    "            continue\n",
    "        cur_atk_path = Path(root_path) / atk.stem\n",
    "\n",
    "        for codec in Path(cur_atk_path).iterdir():\n",
    "            if '.DS_Store' in str(codec):\n",
    "                continue\n",
    "            c = codec.stem\n",
    "            cur_path = Path(f'{str(root_path)}/{atk.stem}/{c}')\n",
    "            if ('jpeg' in c) and main_for_jpeg_ai:\n",
    "                cv = 'mainc_test.csv'\n",
    "            else:    \n",
    "                cv = c + '_test.csv'\n",
    "            \n",
    "            log_path = cur_path / cv\n",
    "            if log_path.exists():\n",
    "                cur_df = pd.read_csv(log_path, index_col=0)\n",
    "                c_name = '-'.join(c.split('-')[:-1])\n",
    "                cur_df['codec_name'] = c_name\n",
    "                cur_df['codec_variant'] = c.split('-')[-1]\n",
    "                cur_df['codec_variant_num'] = codec_variants[c_name].index(c.split('-')[-1])\n",
    "                res_df = pd.concat([res_df, cur_df], ignore_index=True)\n",
    "    return res_df\n"
   ]
  },
  {
   "cell_type": "code",
   "execution_count": 6,
   "id": "07c62219",
   "metadata": {},
   "outputs": [],
   "source": [
    "merged_res = merge_full_files('./csvs') # path to csvs\n",
    "# calculate deltas\n",
    "merged_res['delta_psnr_new'] =  merged_res['psnr_clear_attacked'] - merged_res['psnr_defended-rec-clear_defended-rec-attacked']\n",
    "merged_res['delta_vmaf_new'] =  merged_res['vmaf_clear_attacked'] - merged_res['vmaf_defended-rec-clear_defended-rec-attacked']\n",
    "\n",
    "for fr in ['msssim', 'ssim', 'mse', 'psnr', 'l_inf', 'mae', 'vmaf']:\n",
    "    merged_res[f'delta_{fr}_new'] =  merged_res[f'{fr}_clear_attacked'] - merged_res[f'{fr}_defended-rec-clear_defended-rec-attacked']\n",
    "    merged_res[f'delta_{fr}_old'] =  merged_res[f'{fr}_clear_defended-rec-clear'] - merged_res[f'{fr}_attacked_defended-rec-attacked']\n",
    "    merged_res[f'change_{fr}'] =  (merged_res[f'{fr}_clear_defended-rec-clear'] - merged_res[f'{fr}_attacked_defended-rec-attacked']) / merged_res[f'{fr}_clear_defended-rec-clear'] \n",
    "is_randn_map = {}\n",
    "attack_base_name = {x:x for x in merged_res.attack.unique()}\n",
    "for at in attacks:\n",
    "    if at == 'pgd-ifgsm' or 'randn' in at:\n",
    "        is_randn_map[at] = True\n",
    "    else:\n",
    "        is_randn_map[at] = False\n",
    "\n",
    "merged_res['is_randn'] = merged_res['attack'].map(is_randn_map)\n",
    "merged_res['attack_base_name'] = merged_res['attack'].map(attack_base_name)"
   ]
  },
  {
   "cell_type": "code",
   "execution_count": 7,
   "id": "0a827bdf",
   "metadata": {},
   "outputs": [
    {
     "data": {
      "text/plain": [
       "array(['cheng2020-attn', 'jpegai-v71-bop'], dtype=object)"
      ]
     },
     "execution_count": 7,
     "metadata": {},
     "output_type": "execute_result"
    }
   ],
   "source": [
    "merged_res.codec_name.unique()"
   ]
  },
  {
   "cell_type": "markdown",
   "id": "099b639e",
   "metadata": {},
   "source": [
    "## Plots"
   ]
  },
  {
   "cell_type": "code",
   "execution_count": 13,
   "id": "99bc4b5a",
   "metadata": {},
   "outputs": [
    {
     "data": {
      "text/plain": [
       "Text(0.5, 0, 'NIC Model')"
      ]
     },
     "execution_count": 13,
     "metadata": {},
     "output_type": "execute_result"
    },
    {
     "data": {
      "image/png": "[encoded data removed]",
      "text/plain": [
       "<Figure size 1000x800 with 1 Axes>"
      ]
     },
     "metadata": {},
     "output_type": "display_data"
    }
   ],
   "source": [
    "measure = 'delta_vmaf_new'\n",
    "plot_data = merged_res.copy()\n",
    "plot_data['codec_name'] = plot_data['codec_name'].apply(lambda x: codec_2_name[x])\n",
    "sns.set(style='whitegrid')\n",
    "fig, ax = plt.subplots(1,1, figsize=(10, 8))\n",
    "sns.barplot(data=plot_data, x='codec_name', hue='test_dataset', y=measure)\n",
    "\n",
    "ax.legend(title='Test dataset')\n",
    "ax.set_ylabel('$\\\\leftarrow$ $\\Delta_{{score}}$ VMAF')\n",
    "ax.set_xlabel('NIC Model')"
   ]
  }
 ],
 "metadata": {
  "kernelspec": {
   "display_name": "sd_1",
   "language": "python",
   "name": "python3"
  },
  "language_info": {
   "codemirror_mode": {
    "name": "ipython",
    "version": 3
   },
   "file_extension": ".py",
   "mimetype": "text/x-python",
   "name": "python",
   "nbconvert_exporter": "python",
   "pygments_lexer": "ipython3",
   "version": "3.12.2"
  }
 },
 "nbformat": 4,
 "nbformat_minor": 5
}
